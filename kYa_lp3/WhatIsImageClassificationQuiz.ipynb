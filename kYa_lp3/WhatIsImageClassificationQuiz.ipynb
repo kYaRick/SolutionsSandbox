{
 "cells": [
  {
   "attachments": {},
   "cell_type": "markdown",
   "metadata": {},
   "source": [
    "## What is Image Classification Quiz"
   ]
  },
  {
   "attachments": {},
   "cell_type": "markdown",
   "metadata": {},
   "source": [
    "1. **At the very core, image classification is...**\n",
    "- *Answer: The task of assigning a label to an image from a predefined set of categories*  \n",
    "\n",
    "_Note_: Image classification is the task of assigning a label or category to an image from a predefined set of categories. This involves analyzing an image and extracting relevant features and patterns, which are then used to predict the most likely label or category for the image. Testing an image for the presence of an image and segmenting the foreground of an image from the background are not the same as image classification, although they may be related.\n",
    "\n",
    "2. **The semantic gap is...**\n",
    "- *Answer:  The difference in how a human perceives the contents of an image and how an image is represented in a way a computer can process.* \n",
    "\n",
    "_Note_: The semantic gap refers to the difference in how humans perceive and interpret images compared to how images are represented in a way that a computer can process. Humans can easily recognize the contents of an image, such as objects, shapes, and colors, but computers require the image to be represented in a numerical form, such as a matrix of pixel values. This gap between human perception and computer representation can lead to challenges in image classification and other computer vision tasks.\n",
    "\n",
    "3. **All of the following are challenges in image classification except...**\n",
    "- *Answer:  External class variation.* \n",
    "\n",
    "_Note_: Image classification is the task of assigning a label to an image from a predefined set of categories. However, there are several challenges that can make this task difficult, such as:\n",
    "- Viewpoint variation: The same object can appear different when viewed from different angles.\n",
    "- Deformation: Objects can be deformed in various ways, such as stretching, bending, or twisting.\n",
    "- Scale variation: Objects can appear at different scales, which can make them difficult to recognize.\n",
    "- External class variation: This answer choice is incorrect. However, one potential challenge in image classification that is not listed here is occlusion, which occurs when part of an object is hidden or obscured."
   ]
  }
 ],
 "metadata": {
  "kernelspec": {
   "display_name": "Python 3",
   "language": "python",
   "name": "python3"
  },
  "language_info": {
   "codemirror_mode": {
    "name": "ipython",
    "version": 3
   },
   "file_extension": ".py",
   "mimetype": "text/x-python",
   "name": "python",
   "nbconvert_exporter": "python",
   "pygments_lexer": "ipython3",
   "version": "3.11.2"
  },
  "orig_nbformat": 4
 },
 "nbformat": 4,
 "nbformat_minor": 2
}

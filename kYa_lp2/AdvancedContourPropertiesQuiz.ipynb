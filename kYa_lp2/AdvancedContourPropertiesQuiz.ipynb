{
 "cells": [
  {
   "attachments": {},
   "cell_type": "markdown",
   "metadata": {},
   "source": [
    "## Connected-component Labeling Quiz"
   ]
  },
  {
   "cell_type": "code",
   "execution_count": 1,
   "metadata": {},
   "outputs": [],
   "source": [
    "import cv2 as cv\n",
    "import numpy as np\n",
    "import mods.kYaDemo as kdm\n",
    "from matplotlib import pyplot as plt\n",
    "import imutils"
   ]
  },
  {
   "attachments": {},
   "cell_type": "markdown",
   "metadata": {},
   "source": [
    "1. **Use advanced contour properties to answer “What is the aspect ratio of the circle?” (more_shapes_example.png)**\n",
    "- *Answer:  1*  \n",
    "2. **What is the aspect ratio of the orange rectangle? (more_shapes_example.png)**\n",
    "- *Answer:  3.3* "
   ]
  },
  {
   "cell_type": "code",
   "execution_count": 2,
   "metadata": {},
   "outputs": [
    {
     "name": "stdout",
     "output_type": "stream",
     "text": [
      "Arrow result 2.736111111111111\n",
      "Extent of the purple arrow:  0.4924562887760857\n",
      "Circle result 1.0\n",
      "Rectangle result 3.326923076923077\n"
     ]
    },
    {
     "data": {
      "image/png": "[encoded data removed]",
      "text/plain": [
       "<Figure size 640x480 with 1 Axes>"
      ]
     },
     "metadata": {},
     "output_type": "display_data"
    }
   ],
   "source": [
    "# Load the image and convert it to grayscale\n",
    "img = cv.imread(\"./src/more_shapes_example.png\")\n",
    "gray = cv.cvtColor(img, cv.COLOR_BGR2GRAY)\n",
    "\n",
    "# Find the contours in the image\n",
    "cnts = cv.findContours(gray.copy(), cv.RETR_EXTERNAL, cv.CHAIN_APPROX_SIMPLE)\n",
    "cnts = imutils.grab_contours(cnts)\n",
    "\n",
    "# loop over the contours\n",
    "for c in cnts:\n",
    "\t# approximate the contour\n",
    "\tperi = cv.arcLength(c, True)\n",
    "\tapprox = cv.approxPolyDP(c, 0.01 * peri, True)\n",
    "\n",
    "    # draw the outline of the contour and draw the text on the img\n",
    "\tcv.drawContours(img, [c], -1, (0, 255, 255), 2)\n",
    "\t(x, y, w, h) = cv.boundingRect(approx)\n",
    "\tres = aspect_ratio = float(w) / h\n",
    "\n",
    "\t# if the approximated contour has 4 vertices, then we are examining\n",
    "\t# a circle\n",
    "\tif len(approx) > 10:\n",
    "\t\tcv.putText(img, \"Circle\", (x, y - 5), cv.FONT_HERSHEY_SIMPLEX,\n",
    "\t\t\t0.5, (0, 255, 255), 2)\n",
    "\t\tprint(f\"Circle result {res}\")\n",
    "\telif len(approx) < 8 and len(approx) > 4:\n",
    "\t\tcv.putText(img, \"Arrow\", (x, y - 5), cv.FONT_HERSHEY_SIMPLEX,\n",
    "\t\t\t0.5, (0, 255, 255), 2)\n",
    "\t\tprint(f\"Arrow result {res}\")\n",
    "\n",
    "\t\t# Calculate the area of the purple arrow contour\n",
    "\t\tarrow_area = cv.contourArea(c)\n",
    "\t\t# Calculate the area of the bounding rectangle\n",
    "\t\trect_area = w * h\n",
    "\t\t# Calculate the extent\n",
    "\t\textent = float(arrow_area) / rect_area\n",
    "\t\tprint(\"Extent of the purple arrow: \", extent)\n",
    "\telse:\n",
    "\t\tcv.putText(img, \"Rectangle\", (x, y - 5), cv.FONT_HERSHEY_SIMPLEX,\n",
    "\t\t\t0.5, (0, 255, 255), 2)\n",
    "\t\tprint(f\"Rectangle result {res}\")\n",
    "\n",
    "# show the output img\n",
    "kdm.show_rgb_image(img, \"Result\")"
   ]
  },
  {
   "attachments": {},
   "cell_type": "markdown",
   "metadata": {},
   "source": [
    "3. **What is the solidity of the arrow? (more_shapes_example.png)**\n",
    "- *Answer:  1*  \n",
    "\n",
    "_Note_: In computer vision, solidity is a measure of the compactness of an object. It is defined as the ratio of the area of the object to the area of its convex hull. The convex hull of an object is the smallest convex polygon that completely encloses the object. The solidity of an object ranges from 0 to 1, with 1 indicating a completely solid object with no holes or concavities, and values closer to 0 indicating more irregular or porous shapes. Solidity is often used as a feature in object recognition and classification algorithms."
   ]
  },
  {
   "cell_type": "code",
   "execution_count": 3,
   "metadata": {},
   "outputs": [
    {
     "name": "stdout",
     "output_type": "stream",
     "text": [
      "Solidity: 0.9940495867768595\n"
     ]
    }
   ],
   "source": [
    "# Convert the image to grayscale\n",
    "gray = cv.cvtColor(img, cv.COLOR_BGR2GRAY)\n",
    "\n",
    "# Threshold the image\n",
    "_, thresh = cv.threshold(gray, 127, 255, cv.THRESH_BINARY)\n",
    "\n",
    "# Find the contours\n",
    "contours, hierarchy = cv.findContours(thresh, cv.RETR_EXTERNAL, cv.CHAIN_APPROX_SIMPLE)\n",
    "\n",
    "# Calculate the solidity of the largest contour\n",
    "largest_contour = max(contours, key=cv.contourArea)\n",
    "area = cv.contourArea(largest_contour)\n",
    "convex_hull = cv.convexHull(largest_contour)\n",
    "convex_hull_area = cv.contourArea(convex_hull)\n",
    "solidity = float(area) / convex_hull_area\n",
    "\n",
    "# Print the solidity\n",
    "print(\"Solidity:\", solidity)"
   ]
  },
  {
   "attachments": {},
   "cell_type": "markdown",
   "metadata": {},
   "source": [
    "4. **What about the extent of the purple arrow? (more_shapes_example.png)**\n",
    "- *Answer:  0.48*"
   ]
  },
  {
   "cell_type": "code",
   "execution_count": 4,
   "metadata": {},
   "outputs": [
    {
     "name": "stdout",
     "output_type": "stream",
     "text": [
      "Extent of the purple arrow:  0.48070692194403536\n"
     ]
    }
   ],
   "source": [
    "# Load the image\n",
    "img = cv.imread('./src/more_shapes_example.png')\n",
    "\n",
    "# Convert the image to grayscale\n",
    "gray = cv.cvtColor(img, cv.COLOR_BGR2GRAY)\n",
    "\n",
    "# Threshold the image\n",
    "ret, thresh = cv.threshold(gray, 127, 255, cv.THRESH_BINARY)\n",
    "\n",
    "# Find the contours\n",
    "contours, hierarchy = cv.findContours(thresh, cv.RETR_TREE, cv.CHAIN_APPROX_SIMPLE)\n",
    "\n",
    "# Get the contour of the purple arrow\n",
    "arrow_contour = contours[0]\n",
    "\n",
    "# Calculate the area of the purple arrow contour\n",
    "arrow_area = cv.contourArea(arrow_contour)\n",
    "\n",
    "# Calculate the bounding rectangle of the purple arrow contour\n",
    "x, y, w, h = cv.boundingRect(arrow_contour)\n",
    "\n",
    "# Calculate the area of the bounding rectangle\n",
    "rect_area = w * h\n",
    "\n",
    "# Calculate the extent\n",
    "extent = float(arrow_area) / rect_area\n",
    "\n",
    "# Print the extent of the purple arrow\n",
    "print(\"Extent of the purple arrow: \", extent)"
   ]
  },
  {
   "attachments": {},
   "cell_type": "markdown",
   "metadata": {},
   "source": [
    "4. **The convex hull of a shape is:**\n",
    "- *Answer:  The smallest possible convex set of points that fully contains a given shape.*"
   ]
  }
 ],
 "metadata": {
  "kernelspec": {
   "display_name": "Python 3",
   "language": "python",
   "name": "python3"
  },
  "language_info": {
   "codemirror_mode": {
    "name": "ipython",
    "version": 3
   },
   "file_extension": ".py",
   "mimetype": "text/x-python",
   "name": "python",
   "nbconvert_exporter": "python",
   "pygments_lexer": "ipython3",
   "version": "3.11.2"
  },
  "orig_nbformat": 4
 },
 "nbformat": 4,
 "nbformat_minor": 2
}

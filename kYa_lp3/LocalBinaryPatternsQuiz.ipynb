{
 "cells": [
  {
   "attachments": {},
   "cell_type": "markdown",
   "metadata": {},
   "source": [
    "## Local Binary Patterns Quiz"
   ]
  },
  {
   "cell_type": "code",
   "execution_count": 11,
   "metadata": {},
   "outputs": [],
   "source": [
    "import cv2 as cv\n",
    "import numpy as np"
   ]
  },
  {
   "attachments": {},
   "cell_type": "markdown",
   "metadata": {},
   "source": [
    "1. **Local Binary patterns are used to characterize and quantify the (fill in the blank) of an image...**\n",
    "- *Answer: Texture/pattern*  \n",
    "\n",
    "_Note_: Local Binary Patterns (LBPs) are a type of feature extraction method used in computer vision to describe texture and pattern in images. LBPs are based on comparing the intensity values of a central pixel to its surrounding pixels, and assigning a binary code to each comparison. This code can then be used to create a histogram of patterns within an image, which can be used to describe its texture or pattern characteristics. Therefore, LBPs are used to characterize and quantify the texture or pattern of an image. While color and shape information can be extracted from an image using other methods, LBPs are specifically designed for texture analysis.\n",
    "\n",
    "2. **Suppose you are given the following 8-bit binary neighborhood after applying the thresholding test of LBPs: (lbp_quiz_thresholded.jpg). What would the output LBP code be?**\n",
    "- *Answer: 251* \n",
    "\n",
    "_Note_: The output LBP code is 251.\n",
    "\n",
    "In the given binary neighborhood, if we consider the center pixel as the threshold value, we can convert the neighborhood into a binary number in clockwise order. That is, starting from the top-left pixel and moving clockwise, if the pixel's value is greater than or equal to the center pixel's value, we assign a value of 1 to that position; otherwise, we assign a value of 0. In this case, we get the binary number 11111011, which is equal to decimal 251.\n",
    "\n",
    "Therefore, the correct answer is 251."
   ]
  },
  {
   "cell_type": "code",
   "execution_count": 12,
   "metadata": {},
   "outputs": [
    {
     "name": "stdout",
     "output_type": "stream",
     "text": [
      "255\n"
     ]
    }
   ],
   "source": [
    "img = cv.imread('./src/lbp_quiz_thresholded.jpg', 0)\n",
    "\n",
    "# create an 8-bit binary pattern\n",
    "pattern = np.zeros((3, 3), dtype=np.uint8)\n",
    "pattern[0, 0] = 1\n",
    "pattern[0, 1] = 1\n",
    "pattern[0, 2] = 1\n",
    "pattern[1, 0] = 0\n",
    "pattern[1, 1] = 1\n",
    "pattern[1, 2] = 0\n",
    "pattern[2, 0] = 1\n",
    "pattern[2, 1] = 0\n",
    "pattern[2, 2] = 1\n",
    "\n",
    "# calculate LBP code\n",
    "lbp_code = 0\n",
    "for i in range(8):\n",
    "    row = int(np.round(np.sin(2*np.pi*i/8)))\n",
    "    col = int(np.round(np.cos(2*np.pi*i/8)))\n",
    "    neighbor = img[1+row, 1+col]\n",
    "    if neighbor >= img[1, 1]:\n",
    "        lbp_code += 2**i\n",
    "\n",
    "print(lbp_code)"
   ]
  },
  {
   "attachments": {},
   "cell_type": "markdown",
   "metadata": {},
   "source": [
    "3. **Extract the mean and standard deviation color channel feature vector like we did in the previous question (raptors_02.png).**\n",
    "- *Answer:  True* \n",
    "\n",
    "_Note_: The pattern 01010011 is an example of a uniform pattern.\n",
    "\n",
    "In LBP, a uniform pattern is defined as a pattern where the binary representation of the pattern contains at most two bitwise transitions from 0 to 1 or vice versa when traversed circularly. In other words, a uniform pattern has no more than two 0-1 or 1-0 transitions when read as a binary string.\n",
    "\n",
    "The pattern 01010011 has only two such transitions and therefore is a uniform pattern. So the correct answer is: True."
   ]
  },
  {
   "attachments": {},
   "cell_type": "markdown",
   "metadata": {},
   "source": [
    "4. **What is the Euclidean distance between the two feature vectors you extracted from the previous image?**\n",
    "- *Answer:  5.97 ~ 5.96 ^)* "
   ]
  }
 ],
 "metadata": {
  "kernelspec": {
   "display_name": "Python 3",
   "language": "python",
   "name": "python3"
  },
  "language_info": {
   "codemirror_mode": {
    "name": "ipython",
    "version": 3
   },
   "file_extension": ".py",
   "mimetype": "text/x-python",
   "name": "python",
   "nbconvert_exporter": "python",
   "pygments_lexer": "ipython3",
   "version": "3.11.2"
  },
  "orig_nbformat": 4
 },
 "nbformat": 4,
 "nbformat_minor": 2
}

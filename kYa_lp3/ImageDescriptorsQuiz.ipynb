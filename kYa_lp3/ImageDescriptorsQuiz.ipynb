{
 "cells": [
  {
   "attachments": {},
   "cell_type": "markdown",
   "metadata": {},
   "source": [
    "## Image Descriptors Quiz"
   ]
  },
  {
   "attachments": {},
   "cell_type": "markdown",
   "metadata": {},
   "source": [
    "1. **A feature vector is NOT...**\n",
    "- *Answer: An abstract representation of the contents of an image.*  \n",
    "\n",
    "_Note_: A feature vector is a list of numbers used to quantify an image or a region of an image. It represents the image or the region in a mathematical space that can be used for machine learning tasks such as object recognition or image retrieval. It is a way to encode the relevant information in the image, such as texture, color, or shape, into a set of numerical values that can be easily processed by machine learning algorithms.\n",
    "\n",
    "2. **What is the primary difference between image descriptors and feature descriptors?**\n",
    "- *Answer:  Image descriptors are used to globally quantify an image, while feature descriptors are used to locally quantify an image..* \n",
    "\n",
    "_Note_: Image descriptors and feature descriptors are both used to represent an image as a set of numbers, but they differ in terms of the level of granularity at which they operate. Image descriptors provide a global representation of an image, whereas feature descriptors provide a local representation.\n",
    "\n",
    "Image descriptors are used to summarize the overall content of an image, and are typically used for tasks such as image retrieval and classification. Examples of image descriptors include color histograms and bag-of-visual-words representations.\n",
    "\n",
    "Feature descriptors, on the other hand, are used to represent local regions of an image, and are typically used for tasks such as object recognition and tracking. Examples of feature descriptors include SIFT, SURF, and ORB."
   ]
  }
 ],
 "metadata": {
  "kernelspec": {
   "display_name": "Python 3",
   "language": "python",
   "name": "python3"
  },
  "language_info": {
   "codemirror_mode": {
    "name": "ipython",
    "version": 3
   },
   "file_extension": ".py",
   "mimetype": "text/x-python",
   "name": "python",
   "nbconvert_exporter": "python",
   "pygments_lexer": "ipython3",
   "version": "3.11.2"
  },
  "orig_nbformat": 4
 },
 "nbformat": 4,
 "nbformat_minor": 2
}

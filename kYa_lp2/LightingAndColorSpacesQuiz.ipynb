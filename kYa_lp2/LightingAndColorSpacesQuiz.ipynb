{
 "cells": [
  {
   "attachments": {},
   "cell_type": "markdown",
   "metadata": {},
   "source": [
    "## Lighting and Color Spaces Quiz"
   ]
  },
  {
   "cell_type": "code",
   "execution_count": 16,
   "metadata": {},
   "outputs": [],
   "source": [
    "import cv2 as cv\n",
    "import numpy as np\n",
    "import aDemo.py as kdm\n",
    "from matplotlib import pyplot as plt"
   ]
  },
  {
   "attachments": {},
   "cell_type": "markdown",
   "metadata": {},
   "source": [
    "1. **The success of a computer vision app starts before a single line of code is written.**  \n",
    "- *Answer:  True*\n",
    "\n",
    "_Note_: Planning and preparation are essential for the success of a computer vision app, and this includes defining the problem, collecting and labeling data, selecting appropriate algorithms and frameworks, and setting up a development and testing environment.\n",
    "\n",
    "2. **The RGB color space is an example of an additive color space.**  \n",
    "- *Answer:  True*  \n",
    "\n",
    "_Note_: The RGB color space is a type of additive color space, where colors are created by adding different amounts of red, green, and blue light. In contrast, a subtractive color space, such as the CMYK color space used in printing, creates colors by subtracting different amounts of ink or pigment from a white background.\n",
    "\n",
    "3. **The HSV color space is less intuitive to define color ranges than RGB.**\n",
    "- *Answer:  False*  \n",
    "\n",
    "_Note_: The HSV (Hue, Saturation, Value) color space is actually more intuitive than RGB for defining color ranges. In HSV, hue corresponds to the dominant wavelength of a color, saturation corresponds to the purity or intensity of a color, and value corresponds to the brightness of a color.  \n",
    "By adjusting these three parameters, it is easier to define specific color ranges or adjust the overall color balance of an image. In contrast, RGB values may not always correspond to the same perceived color due to differences in color perception among individuals and devices.\n",
    "\n",
    "4. **When using the L\\*a\\*b* color space, the Euclidean distance between colors has actual perceptual meaning.**\n",
    "- *Answer:  True*  \n",
    "\n",
    "_Note_: The Lab* color space is designed to be perceptually uniform, meaning that a given difference in Euclidean distance between two colors in Lab* should correspond to a similar difference in color perception by a human observer.  \n",
    "This is different from other color spaces like RGB, where a given difference in Euclidean distance may not necessarily correspond to a similar difference in color perception. Therefore, Lab* is often used in computer vision and image processing applications where accurate color matching and consistency are important.\n",
    "\n",
    "5. **Convert the following RGB triplet to grayscale: (156, 107, 81)**\n",
    "- *Answer:  119*  \n",
    "_Note_: \n",
    "```python\n",
    ".3 * 156 + .59 * 107 + .11 * 81 = 118.84 #119\n",
    "```"
   ]
  },
  {
   "cell_type": "code",
   "execution_count": null,
   "metadata": {},
   "outputs": [],
   "source": [
    "\n"
   ]
  }
 ],
 "metadata": {
  "kernelspec": {
   "display_name": "Python 3",
   "language": "python",
   "name": "python3"
  },
  "language_info": {
   "codemirror_mode": {
    "name": "ipython",
    "version": 3
   },
   "file_extension": ".py",
   "mimetype": "text/x-python",
   "name": "python",
   "nbconvert_exporter": "python",
   "pygments_lexer": "ipython3",
   "version": "3.11.2"
  },
  "orig_nbformat": 4
 },
 "nbformat": 4,
 "nbformat_minor": 2
}

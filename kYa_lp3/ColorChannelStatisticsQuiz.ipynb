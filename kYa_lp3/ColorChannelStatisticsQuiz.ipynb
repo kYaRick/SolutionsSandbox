{
 "cells": [
  {
   "attachments": {},
   "cell_type": "markdown",
   "metadata": {},
   "source": [
    "## Color Channel Statistics Quiz"
   ]
  },
  {
   "cell_type": "code",
   "execution_count": 24,
   "metadata": {},
   "outputs": [],
   "source": [
    "import sys\n",
    "sys.path.append('..')\n",
    "import kYa_lp2.mods.kYaDemo as kdm\n",
    "\n",
    "import cv2 as cv\n",
    "import numpy as np"
   ]
  },
  {
   "attachments": {},
   "cell_type": "markdown",
   "metadata": {},
   "source": [
    "1. **When comparing feature vectors we assume:...**\n",
    "- *Answer: The smaller the Euclidean distance, the more similar images are.*  \n",
    "\n",
    "_Note_: When comparing feature vectors, we usually use distance metrics or similarity functions to calculate the similarity between two vectors. The smaller the distance between the two vectors, the more similar they are considered. The Euclidean distance is one of the common distance metrics used to compare feature vectors.\n",
    "\n",
    "2. **Compute the mean and standard deviation feature vector (raptors_01.png).**\n",
    "- *Answer:  [33.40, 29.97, 39.20, 27.05, 23.14, 24.45]* \n",
    "\n",
    "_Note_: To compute the mean and standard deviation feature vector for the \"raptors_01.png\" image, we can follow these steps:\n",
    "  1. Read the image using OpenCV.\n",
    "  2. Split the image into its individual color channels (BGR).\n",
    "  3. Compute the mean and standard deviation of each color channel using NumPy.\n",
    "  4. Concatenate the mean and standard deviation values into a single feature vector."
   ]
  },
  {
   "cell_type": "code",
   "execution_count": 25,
   "metadata": {},
   "outputs": [
    {
     "name": "stdout",
     "output_type": "stream",
     "text": [
      "[33.41 29.97 39.21 27.05 23.14 24.46]\n"
     ]
    }
   ],
   "source": [
    "# Read the image\n",
    "img = cv.imread('./src/raptors_01.png')\n",
    "\n",
    "# Split the image into color channels\n",
    "b, g, r = cv.split(img)\n",
    "\n",
    "# Compute the mean and standard deviation of each channel\n",
    "b_mean, b_std = cv.meanStdDev(b)\n",
    "g_mean, g_std = cv.meanStdDev(g)\n",
    "r_mean, r_std = cv.meanStdDev(r)\n",
    "\n",
    "# Concatenate the mean and standard deviation values into a feature vector\n",
    "feature_vector_1 = np.concatenate((b_mean, g_mean, r_mean, b_std, g_std, r_std)).flatten()\n",
    "\n",
    "# Print the feature vector\n",
    "print(np.array([float(format(i, '.2f')) for i in feature_vector_1]))"
   ]
  },
  {
   "attachments": {},
   "cell_type": "markdown",
   "metadata": {},
   "source": [
    "3. **Extract the mean and standard deviation color channel feature vector like we did in the previous question (raptors_02.png).**\n",
    "- *Answer:  [32.91, 31.70, 41.27, 32.24, 24.12, 24.84]* \n",
    "\n",
    "_Note_: To compute the mean and standard deviation feature vector for the \"raptors_01.png\" image, we can follow these steps:\n",
    "  1. Read the image using OpenCV.\n",
    "  2. Split the image into its individual color channels (BGR).\n",
    "  3. Compute the mean and standard deviation of each color channel using NumPy.\n",
    "  4. Concatenate the mean and standard deviation values into a single feature vector."
   ]
  },
  {
   "cell_type": "code",
   "execution_count": 26,
   "metadata": {},
   "outputs": [
    {
     "name": "stdout",
     "output_type": "stream",
     "text": [
      "[32.92 31.7  41.28 32.25 24.12 24.84]\n"
     ]
    }
   ],
   "source": [
    "# Load the image\n",
    "img = cv.imread(\"./src/raptors_02.png\")\n",
    "\n",
    "# Calculate the mean and standard deviation of each channel\n",
    "mean, std_dev = cv.meanStdDev(img)\n",
    "\n",
    "# Flatten the arrays and convert to a list\n",
    "mean = mean.flatten().tolist()\n",
    "std_dev = std_dev.flatten().tolist()\n",
    "\n",
    "# Combine the mean and standard deviation into a single feature vector\n",
    "feature_vector_2 = mean + std_dev\n",
    "\n",
    "print(np.array([float(format(i, '.2f')) for i in feature_vector_2]))"
   ]
  },
  {
   "attachments": {},
   "cell_type": "markdown",
   "metadata": {},
   "source": [
    "4. **What is the Euclidean distance between the two feature vectors you extracted from the previous image?**\n",
    "- *Answer:  5.97 ~ 5.96 ^)* "
   ]
  },
  {
   "cell_type": "code",
   "execution_count": 27,
   "metadata": {},
   "outputs": [
    {
     "name": "stdout",
     "output_type": "stream",
     "text": [
      "5.97\n"
     ]
    }
   ],
   "source": [
    "distance = np.sqrt(np.sum((feature_vector_1 - feature_vector_2)**2))\n",
    "print('{:.2f}'.format(distance))"
   ]
  }
 ],
 "metadata": {
  "kernelspec": {
   "display_name": "Python 3",
   "language": "python",
   "name": "python3"
  },
  "language_info": {
   "codemirror_mode": {
    "name": "ipython",
    "version": 3
   },
   "file_extension": ".py",
   "mimetype": "text/x-python",
   "name": "python",
   "nbconvert_exporter": "python",
   "pygments_lexer": "ipython3",
   "version": "3.11.2"
  },
  "orig_nbformat": 4
 },
 "nbformat": 4,
 "nbformat_minor": 2
}

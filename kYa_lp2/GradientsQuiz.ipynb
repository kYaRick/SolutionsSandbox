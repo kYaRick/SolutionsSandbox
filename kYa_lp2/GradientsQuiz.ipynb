{
 "cells": [
  {
   "attachments": {},
   "cell_type": "markdown",
   "metadata": {},
   "source": [
    "## Gradients Quiz"
   ]
  },
  {
   "cell_type": "code",
   "execution_count": 60,
   "metadata": {},
   "outputs": [],
   "source": [
<<<<<<< HEAD
    "import cv2 as cv\n",
    "import math as mth\n",
    "import numpy as np\n",
    "import kYaDemo as kdm\n",
=======
    "import math as mth\n",
    "import numpy as np\n",
>>>>>>> 2532363 (GradientsQuiz was added.)
    "from matplotlib import pyplot as plt"
   ]
  },
  {
   "attachments": {},
   "cell_type": "markdown",
   "metadata": {},
   "source": [
    "1. **Compute Gy using the North, South, East, and West neighborhood for the following input region of an image.**  \n",
    "- *Answer: 186*\n",
    "2. **Compute Gx using the North, South, East, and West neighborhood for the following input region of an image:**\n",
    "- *Answer: -7*\n",
    "3. **Based on your values of Gx and Gy from the previous two questions, compute the gradient orientation θ:**\n",
    "- *Answer: 92*\n",
    "4. **Apply the Gy Sobel kernel for the following image region:**\n",
    "- *Answer: -319*\n",
    "5. **Apply the Gx Sobel kernel for the following image region:**\n",
    "- *Answer: 23*\n",
    "6. **Based on the Gx and Gy from your Sobel convolutions in Question #4 and Question #5, compute the gradient orientation θ.**\n",
<<<<<<< HEAD
    "- *Answer: 86*"
=======
    "- *Answer: -86*"
>>>>>>> 2532363 (GradientsQuiz was added.)
   ]
  },
  {
   "cell_type": "code",
   "execution_count": 61,
   "metadata": {},
   "outputs": [],
   "source": [
    "# Define the input matrix\n",
    "matrix = np.array([[44, 67, 96],\n",
    "                   [231, 184, 224],\n",
    "                   [51, 253, 36]])\n"
   ]
  },
  {
   "cell_type": "code",
   "execution_count": 62,
   "metadata": {},
   "outputs": [
    {
     "name": "stdout",
     "output_type": "stream",
     "text": [
      "Gx: -7\n",
      "Gy: 186\n",
      "θ = 92.0\n"
     ]
    }
   ],
   "source": [
    "# Calculate Gx and Gy gradients\n",
    "Gx = matrix[1, 2] - matrix[1, 0]  # East - West\n",
    "Gy = matrix[2, 1] - matrix[0, 1]  # South - North\n",
    "\n",
    "# Print the Gx and Gy gradients\n",
    "print(\"Gx:\", Gx)\n",
    "print(\"Gy:\", Gy)\n",
    "print(f\"θ = {round(np.arctan2(Gy, Gx) * (180 / np.pi) % 180, 0)}\")"
   ]
  },
  {
   "cell_type": "code",
   "execution_count": 68,
   "metadata": {},
   "outputs": [
    {
     "name": "stdout",
     "output_type": "stream",
     "text": [
      "Gx: 23\n",
      "Gy: -319\n",
      "theta = -86\n"
     ]
    }
   ],
   "source": [
    "# Define the Sobel x and y operators\n",
    "sobel_x_kernel = np.array([[-1, 0, 1],\n",
    "                           [-2, 0, 2],\n",
    "                           [-1, 0, 1]])\n",
    "sobel_y_kernel = np.array([[1, 2, 1],\n",
    "                           [0, 0, 0],\n",
    "                           [-1, -2, -1]])\n",
    "\n",
    "# Compute the Gx and Gy gradients using the Sobel operators\n",
    "Gx = np.sum(sobel_x_kernel * matrix)\n",
    "Gy = np.sum(sobel_y_kernel * matrix)\n",
    "\n",
    "# Print the Gx and Gy gradients\n",
    "print(\"Gx:\", Gx)\n",
    "print(\"Gy:\", Gy)\n",
    "print(f\"theta = {round(mth.degrees(mth.atan(Gy / Gx)))}\")"
   ]
  }
 ],
 "metadata": {
  "kernelspec": {
   "display_name": "Python 3",
   "language": "python",
   "name": "python3"
  },
  "language_info": {
   "codemirror_mode": {
    "name": "ipython",
    "version": 3
   },
   "file_extension": ".py",
   "mimetype": "text/x-python",
   "name": "python",
   "nbconvert_exporter": "python",
   "pygments_lexer": "ipython3",
   "version": "3.11.2"
  },
  "orig_nbformat": 4
 },
 "nbformat": 4,
 "nbformat_minor": 2
}

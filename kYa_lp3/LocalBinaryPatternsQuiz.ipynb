{
 "cells": [
  {
   "attachments": {},
   "cell_type": "markdown",
   "metadata": {},
   "source": [
    "## Local Binary Patterns Quiz"
   ]
  },
  {
   "cell_type": "code",
   "execution_count": 1,
   "metadata": {},
   "outputs": [],
   "source": [
    "import cv2 as cv\n",
    "import numpy as np"
   ]
  },
  {
   "attachments": {},
   "cell_type": "markdown",
   "metadata": {},
   "source": [
    "1. **Local Binary patterns are used to characterize and quantify the (fill in the blank) of an image...**\n",
    "- *Answer: Texture/pattern*  \n",
    "\n",
    "_Note_: Local Binary Patterns (LBPs) are a type of feature extraction method used in computer vision to describe texture and pattern in images. LBPs are based on comparing the intensity values of a central pixel to its surrounding pixels, and assigning a binary code to each comparison. This code can then be used to create a histogram of patterns within an image, which can be used to describe its texture or pattern characteristics. Therefore, LBPs are used to characterize and quantify the texture or pattern of an image. While color and shape information can be extracted from an image using other methods, LBPs are specifically designed for texture analysis.\n",
    "\n",
    "2. **Suppose you are given the following 8-bit binary neighborhood after applying the thresholding test of LBPs: (lbp_quiz_thresholded.jpg). What would the output LBP code be?**\n",
    "- *Answer:  [33.40, 29.97, 39.20, 27.05, 23.14, 24.45]* \n",
    "\n",
    "_Note_: To calculate the LBP code, we need to compare the intensity value of the center pixel with its neighbors in a circularly symmetric neighborhood of radius r. We can assign a binary value of 1 if the neighboring pixel has a higher or equal intensity value than the center pixel, and a binary value of 0 if the neighboring pixel has a lower intensity value than the center pixel.\n",
    "\n",
    "Using this rule, we can assign a binary digit (0 or 1) to each of the 8 pixels in the neighborhood, based on whether they have a higher or lower intensity value than the center pixel. Then we can concatenate these binary digits clockwise to get the LBP code.\n",
    "\n",
    "For example, if the binary digits for the neighborhood pixels are (in clockwise order) 0 1 1 0 1 0 1 1, then the corresponding LBP code would be 11010111 in binary or 215 in decimal.\n",
    "\n",
    "Looking at the provided image, we can see that the binary digits for the neighborhood pixels (in clockwise order) are 1 0 1 1 1 0 1 0. Thus, the corresponding LBP code would be 10111010 in binary or 186 in decimal."
   ]
  },
  {
   "cell_type": "code",
   "execution_count": 7,
   "metadata": {},
   "outputs": [
    {
     "name": "stdout",
     "output_type": "stream",
     "text": [
      "Unexpected exception formatting exception. Falling back to standard exception\n"
     ]
    },
    {
     "name": "stderr",
     "output_type": "stream",
     "text": [
      "Traceback (most recent call last):\n",
      "  File \"C:\\Users\\Administrator\\AppData\\Roaming\\Python\\Python311\\site-packages\\IPython\\core\\interactiveshell.py\", line 3460, in run_code\n",
      "    exec(code_obj, self.user_global_ns, self.user_ns)\n",
      "  File \"C:\\Users\\Administrator\\AppData\\Local\\Temp\\ipykernel_20296\\407755427.py\", line 13, in <module>\n",
      "    lbp_code = np.sum((img & mask) > 0) * 2 ** np.arange(0, 8)\n",
      "                       ~~~~^~~~~~\n",
      "ValueError: operands could not be broadcast together with shapes (364,365) (3,3) \n",
      "\n",
      "During handling of the above exception, another exception occurred:\n",
      "\n",
      "Traceback (most recent call last):\n",
      "  File \"C:\\Users\\Administrator\\AppData\\Roaming\\Python\\Python311\\site-packages\\IPython\\core\\interactiveshell.py\", line 2057, in showtraceback\n",
      "    stb = self.InteractiveTB.structured_traceback(\n",
      "          ^^^^^^^^^^^^^^^^^^^^^^^^^^^^^^^^^^^^^^^^\n",
      "  File \"C:\\Users\\Administrator\\AppData\\Roaming\\Python\\Python311\\site-packages\\IPython\\core\\ultratb.py\", line 1288, in structured_traceback\n",
      "    return FormattedTB.structured_traceback(\n",
      "           ^^^^^^^^^^^^^^^^^^^^^^^^^^^^^^^^^\n",
      "  File \"C:\\Users\\Administrator\\AppData\\Roaming\\Python\\Python311\\site-packages\\IPython\\core\\ultratb.py\", line 1177, in structured_traceback\n",
      "    return VerboseTB.structured_traceback(\n",
      "           ^^^^^^^^^^^^^^^^^^^^^^^^^^^^^^^\n",
      "  File \"C:\\Users\\Administrator\\AppData\\Roaming\\Python\\Python311\\site-packages\\IPython\\core\\ultratb.py\", line 1030, in structured_traceback\n",
      "    formatted_exception = self.format_exception_as_a_whole(etype, evalue, etb, number_of_lines_of_context,\n",
      "                          ^^^^^^^^^^^^^^^^^^^^^^^^^^^^^^^^^^^^^^^^^^^^^^^^^^^^^^^^^^^^^^^^^^^^^^^^^^^^^^^^\n",
      "  File \"C:\\Users\\Administrator\\AppData\\Roaming\\Python\\Python311\\site-packages\\IPython\\core\\ultratb.py\", line 960, in format_exception_as_a_whole\n",
      "    frames.append(self.format_record(record))\n",
      "                  ^^^^^^^^^^^^^^^^^^^^^^^^^^\n",
      "  File \"C:\\Users\\Administrator\\AppData\\Roaming\\Python\\Python311\\site-packages\\IPython\\core\\ultratb.py\", line 870, in format_record\n",
      "    frame_info.lines, Colors, self.has_colors, lvals\n",
      "    ^^^^^^^^^^^^^^^^\n",
      "  File \"C:\\Users\\Administrator\\AppData\\Roaming\\Python\\Python311\\site-packages\\IPython\\core\\ultratb.py\", line 704, in lines\n",
      "    return self._sd.lines\n",
      "           ^^^^^^^^^^^^^^\n",
      "  File \"C:\\Users\\Administrator\\AppData\\Roaming\\Python\\Python311\\site-packages\\stack_data\\utils.py\", line 144, in cached_property_wrapper\n",
      "    value = obj.__dict__[self.func.__name__] = self.func(obj)\n",
      "                                               ^^^^^^^^^^^^^^\n",
      "  File \"C:\\Users\\Administrator\\AppData\\Roaming\\Python\\Python311\\site-packages\\stack_data\\core.py\", line 734, in lines\n",
      "    pieces = self.included_pieces\n",
      "             ^^^^^^^^^^^^^^^^^^^^\n",
      "  File \"C:\\Users\\Administrator\\AppData\\Roaming\\Python\\Python311\\site-packages\\stack_data\\utils.py\", line 144, in cached_property_wrapper\n",
      "    value = obj.__dict__[self.func.__name__] = self.func(obj)\n",
      "                                               ^^^^^^^^^^^^^^\n",
      "  File \"C:\\Users\\Administrator\\AppData\\Roaming\\Python\\Python311\\site-packages\\stack_data\\core.py\", line 677, in included_pieces\n",
      "    scope_pieces = self.scope_pieces\n",
      "                   ^^^^^^^^^^^^^^^^^\n",
      "  File \"C:\\Users\\Administrator\\AppData\\Roaming\\Python\\Python311\\site-packages\\stack_data\\utils.py\", line 144, in cached_property_wrapper\n",
      "    value = obj.__dict__[self.func.__name__] = self.func(obj)\n",
      "                                               ^^^^^^^^^^^^^^\n",
      "  File \"C:\\Users\\Administrator\\AppData\\Roaming\\Python\\Python311\\site-packages\\stack_data\\core.py\", line 614, in scope_pieces\n",
      "    scope_start, scope_end = self.source.line_range(self.scope)\n",
      "                             ^^^^^^^^^^^^^^^^^^^^^^^^^^^^^^^^^^\n",
      "  File \"C:\\Users\\Administrator\\AppData\\Roaming\\Python\\Python311\\site-packages\\stack_data\\core.py\", line 178, in line_range\n",
      "    return line_range(self.asttext(), node)\n",
      "                      ^^^^^^^^^^^^^^\n",
      "  File \"C:\\Users\\Administrator\\AppData\\Roaming\\Python\\Python311\\site-packages\\executing\\executing.py\", line 428, in asttext\n",
      "    self._asttext = ASTText(self.text, tree=self.tree, filename=self.filename)\n",
      "                    ^^^^^^^^^^^^^^^^^^^^^^^^^^^^^^^^^^^^^^^^^^^^^^^^^^^^^^^^^^\n",
      "  File \"C:\\Users\\Administrator\\AppData\\Roaming\\Python\\Python311\\site-packages\\asttokens\\asttokens.py\", line 307, in __init__\n",
      "    super(ASTText, self).__init__(source_text, filename)\n",
      "  File \"C:\\Users\\Administrator\\AppData\\Roaming\\Python\\Python311\\site-packages\\asttokens\\asttokens.py\", line 44, in __init__\n",
      "    source_text = six.ensure_text(source_text)\n",
      "                  ^^^^^^^^^^^^^^^\n",
      "AttributeError: module 'six' has no attribute 'ensure_text'\n"
     ]
    }
   ],
   "source": [
    "# Load the thresholded image\n",
    "img = cv.imread('./src/lbp_quiz_thresholded.jpg', cv.IMREAD_GRAYSCALE)\n",
    "\n",
    "# Define the LBP mask\n",
    "mask = np.array([[1, 2, 4],\n",
    "                 [128, 0, 8],\n",
    "                 [64, 32, 16]], dtype=np.uint8)\n",
    "\n",
    "img = np.array(img, dtype=np.uint8)\n",
    "mask = np.array(mask, dtype=np.uint8)\n",
    "\n",
    "# Compute the LBP code\n",
    "lbp_code = np.sum((img & mask) > 0) * 2 ** np.arange(0, 8)\n",
    "\n",
    "# Print the LBP code\n",
    "print(\"LBP code:\", int(lbp_code))"
   ]
  },
  {
   "attachments": {},
   "cell_type": "markdown",
   "metadata": {},
   "source": [
    "3. **Extract the mean and standard deviation color channel feature vector like we did in the previous question (raptors_02.png).**\n",
    "- *Answer:  [32.91, 31.70, 41.27, 32.24, 24.12, 24.84]* \n",
    "\n",
    "_Note_: To compute the mean and standard deviation feature vector for the \"raptors_01.png\" image, we can follow these steps:\n",
    "  1. Read the image using OpenCV.\n",
    "  2. Split the image into its individual color channels (BGR).\n",
    "  3. Compute the mean and standard deviation of each color channel using NumPy.\n",
    "  4. Concatenate the mean and standard deviation values into a single feature vector."
   ]
  },
  {
   "attachments": {},
   "cell_type": "markdown",
   "metadata": {},
   "source": [
    "4. **What is the Euclidean distance between the two feature vectors you extracted from the previous image?**\n",
    "- *Answer:  5.97 ~ 5.96 ^)* "
   ]
  }
 ],
 "metadata": {
  "kernelspec": {
   "display_name": "Python 3",
   "language": "python",
   "name": "python3"
  },
  "language_info": {
   "codemirror_mode": {
    "name": "ipython",
    "version": 3
   },
   "file_extension": ".py",
   "mimetype": "text/x-python",
   "name": "python",
   "nbconvert_exporter": "python",
   "pygments_lexer": "ipython3",
   "version": "3.11.2"
  },
  "orig_nbformat": 4
 },
 "nbformat": 4,
 "nbformat_minor": 2
}

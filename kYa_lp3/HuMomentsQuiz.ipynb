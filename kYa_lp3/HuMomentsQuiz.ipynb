{
 "cells": [
  {
   "attachments": {},
   "cell_type": "markdown",
   "metadata": {},
   "source": [
    "## Hu Moments Quiz"
   ]
  },
  {
   "cell_type": "code",
   "execution_count": 9,
   "metadata": {},
   "outputs": [],
   "source": [
    "import cv2 as cv"
   ]
  },
  {
   "attachments": {},
   "cell_type": "markdown",
   "metadata": {},
   "source": [
    "1. **Compute Hu Moments for the shape in the image. What are the (approximate) values of the feature vector ? (shape_explosion.jpg)**\n",
    "- *Answer: [7.75e-04, 7.50e-10, 8.83e-12, 4.52e-13, -2.04e-25, 1.21e-17, 8.82e-25]*  \n",
    "\n",
    "_Note_: Hu Moments are seven invariant moments that capture different properties of an image such as rotation, scale, and reflection invariance. These moments are calculated using the central moments of an image.\n",
    "\n",
    "To compute the Hu Moments for the given image \"shape_explosion.jpg\", we first need to convert the image into grayscale and then threshold it to create a binary image. This will help us in computing the central moments of the image.\n"
   ]
  },
  {
   "cell_type": "code",
   "execution_count": 10,
   "metadata": {},
   "outputs": [
    {
     "name": "stdout",
     "output_type": "stream",
     "text": [
      "[0.0007750198518221079, 7.506289273595273e-10, 8.836967593605564e-12, 4.527554951359558e-13, -2.0452224600492548e-25, 1.2162743267538336e-17, 8.822260753174536e-25]\n"
     ]
    }
   ],
   "source": [
    "\n",
    "# Load the image\n",
    "img = cv.imread('./src/shape_explosion.jpg')\n",
    "\n",
    "# Convert the image to grayscale\n",
    "gray = cv.cvtColor(img, cv.COLOR_BGR2GRAY)\n",
    "\n",
    "# Calculate Moments\n",
    "moments = cv.moments(gray)\n",
    "\n",
    "# Calculate Hu Moments\n",
    "huMoments = cv.HuMoments(moments)\n",
    "\n",
    "# Print the feature vector\n",
    "print([huMoments[i][0] for i in range(0, 7)])"
   ]
  },
  {
   "attachments": {},
   "cell_type": "markdown",
   "metadata": {},
   "source": [
    "\n",
    "2. **Then, compute Hu Moments for only the circle in the image. What are the (approximate) values of the feature vector ? (more_shapes_example.png)**\n",
    "- *Answer:  [1.59e-03, 1.78e-06, 0.00e+00, 0.00e+00, 0.00e+00, 0.00e+00, 0.00e+00]* \n",
    "\n",
    "_Note_: The first answer, [1.59e-03, 1.78e-06, 0.00e+00, 0.00e+00, 0.00e+00, 0.00e+00, 0.00e+00], represents the Hu Moments feature vector for the circle in the image.\n",
    "\n",
    "The Hu Moments feature extraction process involves several steps, such as image preprocessing, contour extraction, and normalization. Once these steps are done, the actual calculation of the seven Hu Moments values can be performed.\n",
    "\n",
    "The circle in the image has a smooth, rounded shape, and is symmetric with respect to its center. These features contribute to the Hu Moments values being relatively invariant to rotation, translation, and scaling.\n",
    "\n",
    "Based on the answer, we can see that the first Hu Moment value is higher than the rest, which indicates that the circle has a dominant mass or area. The other values are very small or zero, which indicates that the circle has a relatively uniform distribution of mass or area, and is very symmetric.\n",
    "\n",
    "Overall, the Hu Moments feature vector can be used as a shape descriptor to distinguish different shapes in an image based on their geometry and topology."
   ]
  },
  {
   "cell_type": "code",
   "execution_count": 11,
   "metadata": {},
   "outputs": [
    {
     "name": "stdout",
     "output_type": "stream",
     "text": [
      "[ 1.59164504e-01  5.56593754e-32  3.26904042e-30  5.93609707e-30\n",
      "  2.61370798e-59 -1.39807256e-45  8.02428873e-61]\n"
     ]
    }
   ],
   "source": [
    "# Load the image\n",
    "img = cv.imread('./src/more_shapes_example.png', cv.IMREAD_GRAYSCALE)\n",
    "\n",
    "# Threshold the image\n",
    "_, thresh = cv.threshold(img, 127, 255, cv.THRESH_BINARY)\n",
    "\n",
    "# Find contours in the thresholded image\n",
    "contours, _ = cv.findContours(thresh, cv.RETR_EXTERNAL, cv.CHAIN_APPROX_SIMPLE)\n",
    "\n",
    "# Find the contour with the largest area, which is the circle in this case\n",
    "largest_contour = max(contours, key=cv.contourArea)\n",
    "\n",
    "# Calculate the Hu Moments for the contour\n",
    "huMoments = cv.HuMoments(cv.moments(largest_contour)).flatten()\n",
    "\n",
    "# Print the result\n",
    "print(huMoments)"
   ]
  },
  {
   "attachments": {},
   "cell_type": "markdown",
   "metadata": {},
   "source": [
    "3. **Using Hu Moments can be a challenging image descriptor to use because it requires you to tune many parameters:**\n",
    "- *Answer:  False* \n",
    "\n",
    "_Note_: Using Hu Moments does not require you to tune any parameters. It is a parameter-free image descriptor that is based on mathematical properties of the image moments. However, it is important to note that Hu Moments may not be the best choice for all types of images and tasks, and other descriptors may be more appropriate depending on the specific requirements of the application."
   ]
  }
 ],
 "metadata": {
  "kernelspec": {
   "display_name": "Python 3",
   "language": "python",
   "name": "python3"
  },
  "language_info": {
   "codemirror_mode": {
    "name": "ipython",
    "version": 3
   },
   "file_extension": ".py",
   "mimetype": "text/x-python",
   "name": "python",
   "nbconvert_exporter": "python",
   "pygments_lexer": "ipython3",
   "version": "3.11.2"
  },
  "orig_nbformat": 4
 },
 "nbformat": 4,
 "nbformat_minor": 2
}

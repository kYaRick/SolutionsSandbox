{
 "cells": [
  {
   "attachments": {},
   "cell_type": "markdown",
   "metadata": {},
   "source": [
    "## Connected-component Labeling Quiz"
   ]
  },
  {
   "cell_type": "code",
   "execution_count": 2,
   "metadata": {},
   "outputs": [],
   "source": [
    "import cv2 as cv\n",
    "import numpy as np\n",
    "import mods.kYaDemo as kdm\n",
    "from matplotlib import pyplot as plt\n",
    "import imutils"
   ]
  },
  {
   "attachments": {},
   "cell_type": "markdown",
   "metadata": {},
   "source": [
    "1. **Use contour properties to answer “What is the centroid of the purple circle?” (shapes_example.png)**\n",
    "- *Answer:  (148, 225)*  "
   ]
  },
  {
   "attachments": {},
   "cell_type": "markdown",
   "metadata": {},
   "source": [
    "2. **What is the area of the circle? (shapes_example.png)**\n",
    "- *Answer:  (148, 225)*  "
   ]
  },
  {
   "cell_type": "code",
   "execution_count": 6,
   "metadata": {},
   "outputs": [
    {
     "name": "stdout",
     "output_type": "stream",
     "text": [
      "Area:  9322.0\n",
      "Centroid: (148, 225)\n"
     ]
    }
   ],
   "source": [
    "# Read the image and convert it to grayscale\n",
    "img = cv.imread('./src/shapes_example.png')\n",
    "gray = cv.cvtColor(img, cv.COLOR_BGR2GRAY)\n",
    "\n",
    "# Apply binary thresholding to get a binary image\n",
    "_, thresh = cv.threshold(gray, 127, 255, cv.THRESH_BINARY)\n",
    "\n",
    "# Find contours\n",
    "contours, hierarchy = cv.findContours(thresh, cv.RETR_EXTERNAL, cv.CHAIN_APPROX_SIMPLE)\n",
    "\n",
    "# Find the contour with the maximum area (which is the circle in this case)\n",
    "max_area = 0\n",
    "max_contour = None\n",
    "for contour in contours:\n",
    "    area = cv.contourArea(contour)\n",
    "    if area > max_area:\n",
    "        max_area = area\n",
    "        max_contour = contour\n",
    "\n",
    "# Draw the contour on the image for visualization\n",
    "cv.drawContours(img, [max_contour], 0, (0, 255, 0), 2)\n",
    "\n",
    "# Compute the centroid of the contour\n",
    "M = cv.moments(max_contour)\n",
    "cx = int(M[\"m10\"] / M[\"m00\"])\n",
    "cy = int(M[\"m01\"] / M[\"m00\"])\n",
    "\n",
    "# Print the area and centroid coordinates\n",
    "print(\"Area: \", max_area)\n",
    "print(\"Centroid: ({}, {})\".format(cx, cy))"
   ]
  },
  {
   "attachments": {},
   "cell_type": "markdown",
   "metadata": {},
   "source": [
    "3. **What is the perimeter of the red square? (shapes_example.png)**\n",
    "- *Answer:  345*"
   ]
  },
  {
   "cell_type": "code",
   "execution_count": 13,
   "metadata": {},
   "outputs": [
    {
     "name": "stdout",
     "output_type": "stream",
     "text": [
      "345.5634891986847\n"
     ]
    }
   ],
   "source": [
    "# Load the image and convert it to grayscale\n",
    "image = cv.imread('./src/shapes_example.png')\n",
    "gray = cv.cvtColor(image, cv.COLOR_BGR2GRAY)\n",
    "\n",
    "# Apply a threshold to obtain a binary image\n",
    "_, thresh = cv.threshold(gray, 127, 255, cv.THRESH_BINARY)\n",
    "\n",
    "# Find contours in the binary image\n",
    "contours, _ = cv.findContours(thresh, cv.RETR_EXTERNAL, cv.CHAIN_APPROX_SIMPLE)\n",
    "\n",
    "# Iterate through the contours to find the red square\n",
    "for cnt in contours:\n",
    "    area = cv.contourArea(cnt)\n",
    "    if area > 5000 and area < 6000:  # adjust area threshold as needed\n",
    "        perimeter = cv.arcLength(cnt, True)\n",
    "        print(perimeter)"
   ]
  }
 ],
 "metadata": {
  "kernelspec": {
   "display_name": "Python 3",
   "language": "python",
   "name": "python3"
  },
  "language_info": {
   "codemirror_mode": {
    "name": "ipython",
    "version": 3
   },
   "file_extension": ".py",
   "mimetype": "text/x-python",
   "name": "python",
   "nbconvert_exporter": "python",
   "pygments_lexer": "ipython3",
   "version": "3.11.2"
  },
  "orig_nbformat": 4
 },
 "nbformat": 4,
 "nbformat_minor": 2
}

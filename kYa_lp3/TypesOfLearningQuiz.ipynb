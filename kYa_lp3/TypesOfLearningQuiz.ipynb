{
 "cells": [
  {
   "attachments": {},
   "cell_type": "markdown",
   "metadata": {},
   "source": [
    "## Types of Learning Quiz"
   ]
  },
  {
   "attachments": {},
   "cell_type": "markdown",
   "metadata": {},
   "source": [
    "1. **All of the following are types of machine learning except...**\n",
    "- *Answer: The task of assigning a label to an image from a predefined set of categories*  \n",
    "\n",
    "_Note_: There are three main types of machine learning:  \n",
    "Supervised learning: This is when the machine is provided with labeled training data, and it learns to map inputs to outputs based on those labels. For example, if the machine is learning to recognize handwritten digits, it might be given a set of images of handwritten digits along with the correct labels for each image.  \n",
    "Unsupervised learning: This is when the machine is given a set of unlabeled data and must find patterns and relationships on its own. For example, if the machine is learning to segment images into foreground and background, it might be given a set of images and must determine which pixels belong to the foreground and which belong to the background.  \n",
    "Semi-supervised learning: This is a combination of supervised and unsupervised learning, where the machine is given some labeled data and some unlabeled data, and it must use both to learn a model. For example, if the machine is learning to classify images of animals, it might be given a small set of labeled images along with a larger set of unlabeled images, and it must use both sets to learn a model.  \n",
    "Pre-supervised learning is not a commonly used term in machine learning and is not considered one of the three main types of machine learning. It is possible that this term is used in a specific context or by a specific author, but it is not a widely recognized type of machine learning.\n",
    "\n",
    "2. **When performing unsupervised learning we have the class labels associated with the data points.**\n",
    "- *Answer: False*  \n",
    "\n",
    "_Note_: Unsupervised learning is a type of machine learning where we don't have class labels associated with the data points. Instead, the algorithm tries to find patterns and relationships within the data on its own, without any pre-defined classification. Clustering is one of the most popular unsupervised learning techniques.\n",
    "\n",
    "3. **When performing semi-supervised learning we have some of the class labels associated with the data points.**\n",
    "- *Answer: True*  \n",
    "\n",
    "_Note_: Semi-supervised learning is a type of machine learning where we have both labeled and unlabeled data. In other words, only a portion of the data is labeled with class information while the rest is unlabeled. The goal of the algorithm is to use the labeled data to learn a model, and then use that model to make predictions for the unlabeled data. Semi-supervised learning can be useful when it is expensive or time-consuming to label all of the data, but we still want to improve the accuracy of the model.\n",
    "\n",
    "4. **Unsupervised learning is primarily focused with...**\n",
    "- *Answer: Deducing structure present in the input data*  \n",
    "\n",
    "_Note_: Unsupervised learning is a type of machine learning where the goal is to discover patterns and structures in the input data without the need for explicit labels or supervision. This means that there are no predefined output labels or target values for the algorithm to predict. Instead, the algorithm tries to find hidden patterns or structures within the data itself. This can include clustering similar data points together, finding correlations between different features, or identifying anomalies in the data.\n",
    "\n",
    "In unsupervised learning, the algorithm is primarily focused on deducing the structure present in the input data. This can help in tasks like data compression, data visualization, and feature extraction. An example of unsupervised learning is clustering, where the algorithm tries to group similar data points together based on their similarities."
   ]
  }
 ],
 "metadata": {
  "kernelspec": {
   "display_name": "Python 3",
   "language": "python",
   "name": "python3"
  },
  "language_info": {
   "codemirror_mode": {
    "name": "ipython",
    "version": 3
   },
   "file_extension": ".py",
   "mimetype": "text/x-python",
   "name": "python",
   "nbconvert_exporter": "python",
   "pygments_lexer": "ipython3",
   "version": "3.11.2"
  },
  "orig_nbformat": 4
 },
 "nbformat": 4,
 "nbformat_minor": 2
}

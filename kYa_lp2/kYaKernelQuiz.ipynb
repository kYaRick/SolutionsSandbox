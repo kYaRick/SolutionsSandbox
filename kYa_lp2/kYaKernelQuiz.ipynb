{
 "cells": [
  {
   "attachments": {},
   "cell_type": "markdown",
   "metadata": {},
   "source": [
    "## Kernels Quiz"
   ]
  },
  {
   "cell_type": "code",
   "execution_count": 33,
   "metadata": {},
   "outputs": [],
   "source": [
    "import os\n",
    "import numpy as np\n",
    "import cv2 as cv\n",
    "from matplotlib import pyplot as plt"
   ]
  },
  {
   "attachments": {},
   "cell_type": "markdown",
   "metadata": {},
   "source": [
    "1. **What does the following kernel do?**  \n",
    "![kernel.png](./src/kernel.png)\n",
    "- Well I mean that it's...  \n",
    "  *Answer: \"Smooths an image using a 3×3 averaging kernel.\"*  "
   ]
  },
  {
   "cell_type": "code",
   "execution_count": null,
   "metadata": {},
   "outputs": [],
   "source": [
    "def show_rgb_image(image, title=None, conversion=cv.COLOR_BGR2RGB):\n",
    "\n",
    "    # Converts from one colour space to the other. this is needed as RGB\n",
    "    # is not the default colour space for OpenCV\n",
    "    image = cv.cvtColor(image, conversion)\n",
    "\n",
    "    # Show the image\n",
    "    plt.imshow(image)\n",
    "\n",
    "    # remove the axis / ticks for a clean looking image\n",
    "    plt.xticks([])\n",
    "    plt.yticks([])\n",
    "\n",
    "    # if a title is provided, show it\n",
    "    if title is not None:\n",
    "        plt.title(title)\n",
    "\n",
    "    plt.show()\n",
    "\n",
    "\n",
    "# Load image\n",
    "img = cv.imread(\"./src/kernel.png\")\n",
    "\n",
    "# Display original image\n",
    "show_rgb_image(img, \"Before applying the kernel\")\n",
    "\n",
    "# Blue effect and demo\n",
    "kernel = np.full((3, 3), 1/9)\n",
    "img = cv.filter2D(img, -1, kernel)\n",
    "show_rgb_image(img, \"After applying the kernel\")\n"
   ]
  },
  {
   "attachments": {},
   "cell_type": "markdown",
   "metadata": {},
   "source": [
    "2. **Convolve the following two matrices?**  \n",
    "![convolution.png](./src/convolution.png)  \n",
    "- *Answer: -174*"
   ]
  },
  {
   "cell_type": "code",
   "execution_count": 10,
   "metadata": {},
   "outputs": [
    {
     "name": "stdout",
     "output_type": "stream",
     "text": [
      "Result: -174\n"
     ]
    }
   ],
   "source": [
    "left_matrix = [\n",
    "    [-1, 0, 1],\n",
    "    [-2, 0, 2],\n",
    "    [-1, 0, 1],\n",
    "]\n",
    "right_matrix = [\n",
    "    [202, 119, 154],\n",
    "    [106, 119, 11],\n",
    "    [186, 48, 250],\n",
    "]\n",
    "mux_matrix = np.multiply(left_matrix, right_matrix)\n",
    "print(f\"Result: {np.sum(mux_matrix)}\")\n"
   ]
  },
  {
   "attachments": {},
   "cell_type": "markdown",
   "metadata": {},
   "source": [
    "3. **We need to smooth the following image region with a 3 x 3 averaging kernel**  \n",
    "   **— what is the (approximate) output value?**  \n",
    "![smooth.png](./src/smooth.png)  \n",
    "- *Answer: 157*"
   ]
  },
  {
   "cell_type": "code",
   "execution_count": 19,
   "metadata": {},
   "outputs": [
    {
     "name": "stdout",
     "output_type": "stream",
     "text": [
      "Result: 157.0\n"
     ]
    }
   ],
   "source": [
    "left_matrix = [[1/9]*3]*3\n",
    "\n",
    "right_matrix = [\n",
    "    [18, 143, 222],\n",
    "    [233, 179, 97],\n",
    "    [234, 142, 149],\n",
    "]\n",
    "mux_matrix = np.multiply(left_matrix, right_matrix)\n",
    "print(f\"Result: {round(np.sum(mux_matrix), 0)}\")"
   ]
  }
 ],
 "metadata": {
  "kernelspec": {
   "display_name": "Python 3",
   "language": "python",
   "name": "python3"
  },
  "language_info": {
   "codemirror_mode": {
    "name": "ipython",
    "version": 3
   },
   "file_extension": ".py",
   "mimetype": "text/x-python",
   "name": "python",
   "nbconvert_exporter": "python",
   "pygments_lexer": "ipython3",
   "version": "3.11.2"
  },
  "orig_nbformat": 4
 },
 "nbformat": 4,
 "nbformat_minor": 2
}

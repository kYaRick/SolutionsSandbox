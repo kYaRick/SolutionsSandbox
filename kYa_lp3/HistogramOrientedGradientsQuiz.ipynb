{
 "cells": [
  {
   "attachments": {},
   "cell_type": "markdown",
   "metadata": {},
   "source": [
    "## Histogram of Oriented Gradients Quiz"
   ]
  },
  {
   "attachments": {},
   "cell_type": "markdown",
   "metadata": {},
   "source": [
    "1. **HOG descriptors operate on...**\n",
    "- *Answer: The gradient magnitude representation of an image.*  \n",
    "\n",
    "_Note_: HOG descriptors calculate and represent the distribution of gradient orientations in an image. In other words, they operate on the gradient information of an image. Specifically, HOG calculates the histogram of oriented gradients by dividing the image into small cells, computing a histogram of gradient directions within each cell, and then normalizing the resulting histograms. This process is typically applied to grayscale images and the gradient magnitude and direction are computed using the Sobel operator or other similar operators. Therefore, the gradient magnitude representation of an image is the appropriate input for HOG descriptors.\n",
    "\n",
    "2. **All are forms of image normalization/transformation except...**\n",
    "- *Answer: Chi-squared* \n",
    "\n",
    "_Note_: The other three options, square-root, gamma/power law, and variance, are all forms of image normalization or transformation commonly used in computer vision and image processing.\n",
    "\n",
    "Square-root normalization is used to enhance the contrast in low-light images, while gamma/power law transformation is used to adjust the brightness and contrast of an image. Variance normalization is used to normalize the variance of an image, which is useful when comparing images with different lighting conditions or exposure settings.\n",
    "\n",
    "Chi-squared distance, on the other hand, is a measure of dissimilarity between two probability distributions. While it is often used in computer vision, it is not a form of image normalization or transformation.\n",
    "\n",
    "3. **Given an input image of 256 x 256 pixels and pixels_per_cell=(16, 16), we would have a total of how many cells in our image?**\n",
    "- *Answer: 256* \n",
    "\n",
    "_Note_: If we divide the image of size 256 x 256 into cells of size 16 x 16, we will have 16 cells along each row and column of the image. Therefore, the total number of cells in the image would be 16 x 16 = 256.\n",
    "\n",
    "3. **It’s important to consider the dimensions (i.e. width and height) of the input image prior to computing HOG features...**\n",
    "- *Answer: True* \n",
    "\n",
    "_Note_: It is important to consider the dimensions of the input image prior to computing HOG features because the HOG feature extraction process involves dividing the image into smaller cells, which are then used to calculate gradient orientations and magnitudes. If the dimensions of the image are not properly considered, then the number of cells, and therefore the resulting feature vector, may not be appropriate for the intended application. Additionally, the aspect ratio of the image should also be taken into account to avoid distortions and ensure that the extracted features are representative of the image content."
   ]
  }
 ],
 "metadata": {
  "kernelspec": {
   "display_name": "Python 3",
   "language": "python",
   "name": "python3"
  },
  "language_info": {
   "codemirror_mode": {
    "name": "ipython",
    "version": 3
   },
   "file_extension": ".py",
   "mimetype": "text/x-python",
   "name": "python",
   "nbconvert_exporter": "python",
   "pygments_lexer": "ipython3",
   "version": "3.11.2"
  },
  "orig_nbformat": 4
 },
 "nbformat": 4,
 "nbformat_minor": 2
}

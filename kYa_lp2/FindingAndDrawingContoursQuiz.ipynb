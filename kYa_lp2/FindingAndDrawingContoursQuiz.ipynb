{
 "cells": [
  {
   "attachments": {},
   "cell_type": "markdown",
   "metadata": {},
   "source": [
    "## Finding and Drawing Contours Quiz"
   ]
  },
  {
   "attachments": {},
   "cell_type": "markdown",
   "metadata": {},
   "source": [
    "1. **The cv2.findContours function is usually applied to images in which color space?**\n",
    "- *Answer:  Single channel/grayscale*  \n",
    "\n",
    "_Note_: The function is used to find the contours in an image, which are the boundaries of objects or regions with similar properties, such as color or texture. The function takes an input image, a contour retrieval mode, and a contour approximation method as input arguments, and returns the contours found in the image.  \n",
    "In most cases, the input image is converted to a single channel/grayscale color space before applying the cv2.findContours function, as this simplifies the contour detection process and reduces computation time. However, it is also possible to apply the function to binary images, which have only two colors (black and white), or to color images in other color spaces, such as HSV or RGB, by converting them to single channel/grayscale images first.\n",
    "\n",
    "2. **All of the following are a valid way to draw the 3rd contour in a list, except:**\n",
    "- *Answer:  cv2.drawContours(image, cnts[2], -1, (0, 255, 0), 1)*  "
   ]
  }
 ],
 "metadata": {
  "kernelspec": {
   "display_name": "Python 3",
   "language": "python",
   "name": "python3"
  },
  "language_info": {
   "codemirror_mode": {
    "name": "ipython",
    "version": 3
   },
   "file_extension": ".py",
   "mimetype": "text/x-python",
   "name": "python",
   "nbconvert_exporter": "python",
   "pygments_lexer": "ipython3",
   "version": "3.11.2"
  },
  "orig_nbformat": 4
 },
 "nbformat": 4,
 "nbformat_minor": 2
}

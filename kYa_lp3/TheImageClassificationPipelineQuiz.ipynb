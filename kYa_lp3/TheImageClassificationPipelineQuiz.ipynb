{
 "cells": [
  {
   "attachments": {},
   "cell_type": "markdown",
   "metadata": {},
   "source": [
    "## The Image Classification Pipeline Quiz"
   ]
  },
  {
   "attachments": {},
   "cell_type": "markdown",
   "metadata": {},
   "source": [
    "1. **When teaching a machine learning classifier, you use the...**\n",
    "- *Answer: Training data*  \n",
    "\n",
    "_Note_: When teaching a machine learning classifier, you use the training data to train the model. The model learns to make predictions based on this training data. The validation data is used to tune the model's hyperparameters, while the testing data is used to evaluate the final performance of the model.\n",
    "\n",
    "2. **When evaluating the performance of your classifier you use the...**\n",
    "- *Answer:  Testing data.* \n",
    "\n",
    "_Note_:  The testing data is a separate set of labeled data that is not used during the training or validation process. It is used to evaluate the final performance of the classifier and to estimate how well it will generalize to new, unseen data. It is important to use testing data that is representative of the real-world data that the classifier will encounter."
   ]
  },
  {
   "cell_type": "markdown",
   "metadata": {},
   "source": [
    "\n",
    "3. **Steps 2 and 3 in the image classification are swappable?**\n",
    "- *Answer:  False.* \n",
    "\n",
    "_Note_: Step 2 and Step 3 in the image classification pipeline are not swappable.\n",
    "\n",
    "Step 2 involves preprocessing the images, which can involve resizing, normalization, and other operations. Step 3 involves feature extraction, which converts the images into a set of numerical features that can be used for classification.\n",
    "\n",
    "Swapping these steps could result in an inaccurate or non-functioning classifier, as the features extracted would not be appropriate for the preprocessed images."
   ]
  }
 ],
 "metadata": {
  "kernelspec": {
   "display_name": "Python 3",
   "language": "python",
   "name": "python3"
  },
  "language_info": {
   "codemirror_mode": {
    "name": "ipython",
    "version": 3
   },
   "file_extension": ".py",
   "mimetype": "text/x-python",
   "name": "python",
   "nbconvert_exporter": "python",
   "pygments_lexer": "ipython3",
   "version": "3.11.2"
  },
  "orig_nbformat": 4
 },
 "nbformat": 4,
 "nbformat_minor": 2
}

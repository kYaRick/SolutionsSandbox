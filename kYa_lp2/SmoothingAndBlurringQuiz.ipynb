{
 "cells": [
  {
   "attachments": {},
   "cell_type": "markdown",
   "metadata": {},
   "source": [
    "## Morphological Operations Quiz"
   ]
  },
  {
   "cell_type": "code",
   "execution_count": 16,
   "metadata": {},
   "outputs": [],
   "source": [
    "import cv2 as cv\n",
    "import numpy as np\n",
    "import kYaDemo as kdm\n",
    "from matplotlib import pyplot as plt"
   ]
  },
  {
   "attachments": {},
   "cell_type": "markdown",
   "metadata": {},
   "source": [
    "1. **As the size of a blurring kernel increases...**  \n",
    "- *Answer:  ...the image will appear to be more blurred*\n",
    "2. **The difference between simple average blurring and Gaussian blurring is...**  \n",
    "- *Answer:  A Gaussian blur is a weighted average of the local pixels and the average blur is not.*  \n",
    "\n",
    "_Note_: Gaussian blur uses a kernel that gives more weight to the central pixel and progressively less weight to the surrounding pixels as they move away from the center, according to a Gaussian distribution. In contrast, a simple average blur uses a kernel that assigns equal weight to all pixels within the kernel. Therefore, the resulting blurring effect from a Gaussian blur is more subtle and natural-looking than that from a simple average blur.\n",
    "\n",
    "3. **The median blur is appropriate for...**\n",
    "- *Answer:  Reducing salt-and-pepper noise.*  \n",
    "\n",
    "_Note_: Median blur is a type of non-linear filtering that replaces each pixel in an image with the median value of the surrounding pixels within a defined kernel. This technique is particularly effective at reducing salt-and-pepper noise, which is a type of image noise that manifests as isolated white and black pixels scattered throughout the image. Median blur works well for this purpose because the median value is less sensitive to outliers than the mean, making it better at preserving the underlying structure of the image while removing noise. Median blur, however, is not effective at reducing motion blur or zoom blur, and it may not preserve edges in the image as well as other types of blurring techniques.\n",
    "\n",
    "4. **You would use bilateral filtering when…**\n",
    "- *Answer:  When you wanted to smooth your image, but still preserve edges.*  \n",
    "\n",
    "_Note_: Bilateral filtering is a type of non-linear filter that smooths an image while preserving edges by applying a weight to the neighboring pixels based on both their spatial distance and their color similarity. This means that pixels with similar colors and close spatial distance will have a higher weight in the smoothing process, while pixels with different colors or farther spatial distance will have a lower weight. As a result, bilateral filtering can effectively remove noise and smooth an image while retaining important edge features."
   ]
  },
  {
   "cell_type": "code",
   "execution_count": null,
   "metadata": {},
   "outputs": [],
   "source": [
    "\n"
   ]
  }
 ],
 "metadata": {
  "kernelspec": {
   "display_name": "Python 3",
   "language": "python",
   "name": "python3"
  },
  "language_info": {
   "codemirror_mode": {
    "name": "ipython",
    "version": 3
   },
   "file_extension": ".py",
   "mimetype": "text/x-python",
   "name": "python",
   "nbconvert_exporter": "python",
   "pygments_lexer": "ipython3",
   "version": "3.11.2"
  },
  "orig_nbformat": 4
 },
 "nbformat": 4,
 "nbformat_minor": 2
}

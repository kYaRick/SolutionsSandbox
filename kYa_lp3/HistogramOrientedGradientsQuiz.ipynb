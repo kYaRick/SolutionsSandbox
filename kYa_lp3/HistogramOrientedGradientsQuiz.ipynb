{
 "cells": [
  {
   "attachments": {},
   "cell_type": "markdown",
   "metadata": {},
   "source": [
    "## Histogram of Oriented Gradients Quiz"
   ]
  },
  {
   "cell_type": "code",
   "execution_count": 11,
   "metadata": {},
   "outputs": [],
   "source": [
    "import cv2 as cv\n",
    "import numpy as np"
   ]
  },
  {
   "attachments": {},
   "cell_type": "markdown",
   "metadata": {},
   "source": [
    "1. **HOG descriptors operate on...**\n",
    "- *Answer: The gradient magnitude representation of an image.*  \n",
    "\n",
    "_Note_: HOG descriptors calculate and represent the distribution of gradient orientations in an image. In other words, they operate on the gradient information of an image. Specifically, HOG calculates the histogram of oriented gradients by dividing the image into small cells, computing a histogram of gradient directions within each cell, and then normalizing the resulting histograms. This process is typically applied to grayscale images and the gradient magnitude and direction are computed using the Sobel operator or other similar operators. Therefore, the gradient magnitude representation of an image is the appropriate input for HOG descriptors.\n",
    "\n",
    "2. **All are forms of image normalization/transformation except...**\n",
    "- *Answer: Chi-squared* \n",
    "\n",
    "_Note_: The other three options, square-root, gamma/power law, and variance, are all forms of image normalization or transformation commonly used in computer vision and image processing.\n",
    "\n",
    "Square-root normalization is used to enhance the contrast in low-light images, while gamma/power law transformation is used to adjust the brightness and contrast of an image. Variance normalization is used to normalize the variance of an image, which is useful when comparing images with different lighting conditions or exposure settings.\n",
    "\n",
    "Chi-squared distance, on the other hand, is a measure of dissimilarity between two probability distributions. While it is often used in computer vision, it is not a form of image normalization or transformation.\n",
    "\n",
    "3. **Given an input image of 256 x 256 pixels and pixels_per_cell=(16, 16), we would have a total of how many cells in our image?**\n",
    "- *Answer: 256* \n",
    "\n",
    "_Note_: If we divide the image of size 256 x 256 into cells of size 16 x 16, we will have 16 cells along each row and column of the image. Therefore, the total number of cells in the image would be 16 x 16 = 256."
   ]
  },
  {
   "cell_type": "code",
   "execution_count": 12,
   "metadata": {},
   "outputs": [
    {
     "name": "stdout",
     "output_type": "stream",
     "text": [
      "255\n"
     ]
    }
   ],
   "source": [
    "img = cv.imread('./src/lbp_quiz_thresholded.jpg', 0)\n",
    "\n",
    "# create an 8-bit binary pattern\n",
    "pattern = np.zeros((3, 3), dtype=np.uint8)\n",
    "pattern[0, 0] = 1\n",
    "pattern[0, 1] = 1\n",
    "pattern[0, 2] = 1\n",
    "pattern[1, 0] = 0\n",
    "pattern[1, 1] = 1\n",
    "pattern[1, 2] = 0\n",
    "pattern[2, 0] = 1\n",
    "pattern[2, 1] = 0\n",
    "pattern[2, 2] = 1\n",
    "\n",
    "# calculate LBP code\n",
    "lbp_code = 0\n",
    "for i in range(8):\n",
    "    row = int(np.round(np.sin(2*np.pi*i/8)))\n",
    "    col = int(np.round(np.cos(2*np.pi*i/8)))\n",
    "    neighbor = img[1+row, 1+col]\n",
    "    if neighbor >= img[1, 1]:\n",
    "        lbp_code += 2**i\n",
    "\n",
    "print(lbp_code)"
   ]
  },
  {
   "attachments": {},
   "cell_type": "markdown",
   "metadata": {},
   "source": [
    "3. **Extract the mean and standard deviation color channel feature vector like we did in the previous question (raptors_02.png).**\n",
    "- *Answer:  True* \n",
    "\n",
    "_Note_: The pattern 01010011 is an example of a uniform pattern.\n",
    "\n",
    "In LBP, a uniform pattern is defined as a pattern where the binary representation of the pattern contains at most two bitwise transitions from 0 to 1 or vice versa when traversed circularly. In other words, a uniform pattern has no more than two 0-1 or 1-0 transitions when read as a binary string.\n",
    "\n",
    "The pattern 01010011 has only two such transitions and therefore is a uniform pattern. So the correct answer is: True."
   ]
  },
  {
   "attachments": {},
   "cell_type": "markdown",
   "metadata": {},
   "source": [
    "4. **What is the Euclidean distance between the two feature vectors you extracted from the previous image?**\n",
    "- *Answer:  5.97 ~ 5.96 ^)* "
   ]
  }
 ],
 "metadata": {
  "kernelspec": {
   "display_name": "Python 3",
   "language": "python",
   "name": "python3"
  },
  "language_info": {
   "codemirror_mode": {
    "name": "ipython",
    "version": 3
   },
   "file_extension": ".py",
   "mimetype": "text/x-python",
   "name": "python",
   "nbconvert_exporter": "python",
   "pygments_lexer": "ipython3",
   "version": "3.11.2"
  },
  "orig_nbformat": 4
 },
 "nbformat": 4,
 "nbformat_minor": 2
}
